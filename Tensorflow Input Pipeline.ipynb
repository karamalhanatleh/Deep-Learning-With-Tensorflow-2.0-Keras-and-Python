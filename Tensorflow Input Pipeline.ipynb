{
 "cells": [
  {
   "cell_type": "markdown",
   "id": "a2e29794",
   "metadata": {},
   "source": [
    "# Tensorflow Input Pipeline"
   ]
  },
  {
   "cell_type": "code",
   "execution_count": 1,
   "id": "e9dd4494",
   "metadata": {},
   "outputs": [],
   "source": [
    "#import paskages\n",
    "import tensorflow as tf\n",
    "import os"
   ]
  },
  {
   "cell_type": "code",
   "execution_count": 3,
   "id": "75b64a7e",
   "metadata": {},
   "outputs": [],
   "source": [
    "daily_sales_number =[21,22 ,-108 , 31 ,-1 , 32 ,34 ,31]"
   ]
  },
  {
   "cell_type": "code",
   "execution_count": 4,
   "id": "03bc0bc1",
   "metadata": {},
   "outputs": [
    {
     "data": {
      "text/plain": [
       "<_TensorSliceDataset element_spec=TensorSpec(shape=(), dtype=tf.int32, name=None)>"
      ]
     },
     "execution_count": 4,
     "metadata": {},
     "output_type": "execute_result"
    }
   ],
   "source": [
    "tf_dataset= tf.data.Dataset.from_tensor_slices(daily_sales_number)\n",
    "tf_dataset"
   ]
  },
  {
   "cell_type": "code",
   "execution_count": 5,
   "id": "81400e2b",
   "metadata": {},
   "outputs": [
    {
     "name": "stdout",
     "output_type": "stream",
     "text": [
      "21\n",
      "22\n",
      "-108\n",
      "31\n",
      "-1\n",
      "32\n",
      "34\n",
      "31\n"
     ]
    }
   ],
   "source": [
    "for sales in tf_dataset.as_numpy_iterator():\n",
    "    print(sales)"
   ]
  },
  {
   "cell_type": "code",
   "execution_count": 6,
   "id": "51d139d4",
   "metadata": {},
   "outputs": [
    {
     "name": "stdout",
     "output_type": "stream",
     "text": [
      "21\n",
      "22\n",
      "-108\n"
     ]
    }
   ],
   "source": [
    "for sales in tf_dataset.take(3):\n",
    "    print(sales.numpy())"
   ]
  },
  {
   "cell_type": "code",
   "execution_count": 7,
   "id": "4f072e16",
   "metadata": {},
   "outputs": [
    {
     "name": "stdout",
     "output_type": "stream",
     "text": [
      "21\n",
      "22\n",
      "31\n",
      "32\n",
      "34\n",
      "31\n"
     ]
    }
   ],
   "source": [
    "tf_dataset = tf_dataset.filter(lambda x:x>0)\n",
    "for sales in tf_dataset.as_numpy_iterator():\n",
    "    print(sales)"
   ]
  },
  {
   "cell_type": "code",
   "execution_count": 8,
   "id": "4e233979",
   "metadata": {
    "scrolled": true
   },
   "outputs": [
    {
     "name": "stdout",
     "output_type": "stream",
     "text": [
      "1512\n",
      "1584\n",
      "2232\n",
      "2304\n",
      "2448\n",
      "2232\n"
     ]
    }
   ],
   "source": [
    "tf_dataset = tf_dataset.map(lambda x:x*72)\n",
    "\n",
    "for sales in tf_dataset.as_numpy_iterator():\n",
    "    print(sales)"
   ]
  },
  {
   "cell_type": "code",
   "execution_count": 9,
   "id": "a435f5fa",
   "metadata": {},
   "outputs": [],
   "source": [
    "def print_tensor(data):\n",
    "    for sales in data.as_numpy_iterator():\n",
    "        print(sales)"
   ]
  },
  {
   "cell_type": "code",
   "execution_count": 10,
   "id": "ee89dad7",
   "metadata": {},
   "outputs": [
    {
     "name": "stdout",
     "output_type": "stream",
     "text": [
      "2232\n",
      "1584\n",
      "2448\n",
      "1512\n",
      "2304\n",
      "2232\n"
     ]
    }
   ],
   "source": [
    "tf_dataset = tf_dataset.shuffle(3)\n",
    "print_tensor(tf_dataset)"
   ]
  },
  {
   "cell_type": "code",
   "execution_count": 11,
   "id": "9200b995",
   "metadata": {},
   "outputs": [
    {
     "name": "stdout",
     "output_type": "stream",
     "text": [
      "[1584 2304]\n",
      "[2232 2448]\n",
      "[2232 1512]\n"
     ]
    }
   ],
   "source": [
    "for sales_bath in tf_dataset.batch(2):\n",
    "    print(sales_bath.numpy())"
   ]
  },
  {
   "cell_type": "code",
   "execution_count": null,
   "id": "80df8761",
   "metadata": {},
   "outputs": [],
   "source": []
  },
  {
   "cell_type": "code",
   "execution_count": 12,
   "id": "d135ecbf",
   "metadata": {},
   "outputs": [
    {
     "name": "stdout",
     "output_type": "stream",
     "text": [
      "[1512 1584]\n",
      "[2232 2448]\n",
      "[2232 2304]\n"
     ]
    }
   ],
   "source": [
    "tf_dataset= tf_dataset.from_tensor_slices(daily_sales_number)\n",
    "tf_dataset= tf_dataset.filter(lambda x:x>0).map(lambda y: y*72).shuffle(2).batch(2)\n",
    "\n",
    "print_tensor(tf_dataset)"
   ]
  },
  {
   "cell_type": "code",
   "execution_count": null,
   "id": "e0b6b3de",
   "metadata": {},
   "outputs": [],
   "source": []
  },
  {
   "cell_type": "code",
   "execution_count": 18,
   "id": "b24f8507",
   "metadata": {},
   "outputs": [],
   "source": [
    "###########################################"
   ]
  },
  {
   "cell_type": "code",
   "execution_count": 13,
   "id": "1b3eec70",
   "metadata": {},
   "outputs": [
    {
     "name": "stdout",
     "output_type": "stream",
     "text": [
      "b'data\\\\images\\\\cat\\\\20 Reasons Why Cats Make the Best Pets....jpg'\n",
      "b'data\\\\images\\\\cat\\\\7 Foods Your Cat Can_t Eat.jpg'\n",
      "b'data\\\\images\\\\cat\\\\A cat appears to have caught the....jpg'\n",
      "b'data\\\\images\\\\cat\\\\Adopt-A-Cat Month\\xc2\\xae - American Humane....jpg'\n",
      "b'data\\\\images\\\\cat\\\\All About Your Cat_s Tongue.jpg'\n"
     ]
    }
   ],
   "source": [
    "images_ds = tf.data.Dataset.list_files(\"data/images/*/*/\" , shuffle=False)\n",
    "\n",
    "for f in images_ds.take(5):\n",
    "    print(f.numpy())"
   ]
  },
  {
   "cell_type": "code",
   "execution_count": null,
   "id": "f1b065a1",
   "metadata": {},
   "outputs": [],
   "source": []
  },
  {
   "cell_type": "code",
   "execution_count": 14,
   "id": "928dbb9d",
   "metadata": {},
   "outputs": [
    {
     "name": "stdout",
     "output_type": "stream",
     "text": [
      "b'data\\\\images\\\\cat\\\\Reality check_ Can cat poop cause....jpg'\n",
      "b'data\\\\images\\\\dog\\\\How To Read Your Dog_s Body Language....png'\n",
      "b'data\\\\images\\\\dog\\\\Dogs caught coronavirus from their....jpg'\n"
     ]
    }
   ],
   "source": [
    "images_ds = images_ds.shuffle(200)\n",
    "for f in images_ds.take(3):\n",
    "    print(f.numpy())"
   ]
  },
  {
   "cell_type": "code",
   "execution_count": null,
   "id": "9aa81a24",
   "metadata": {},
   "outputs": [],
   "source": []
  },
  {
   "cell_type": "code",
   "execution_count": 15,
   "id": "8f5bee01",
   "metadata": {},
   "outputs": [
    {
     "data": {
      "text/plain": [
       "130"
      ]
     },
     "execution_count": 15,
     "metadata": {},
     "output_type": "execute_result"
    }
   ],
   "source": [
    "image_count = len(images_ds)\n",
    "image_count"
   ]
  },
  {
   "cell_type": "code",
   "execution_count": 16,
   "id": "b70bbfbc",
   "metadata": {},
   "outputs": [],
   "source": [
    "class_name =['cat','dog']"
   ]
  },
  {
   "cell_type": "code",
   "execution_count": 17,
   "id": "f743c53a",
   "metadata": {},
   "outputs": [],
   "source": [
    "train_size = int(image_count*0.8)\n",
    "train_ds = images_ds.take(train_size)\n",
    "test_ds = images_ds.skip(train_size)"
   ]
  },
  {
   "cell_type": "code",
   "execution_count": null,
   "id": "9ee358e5",
   "metadata": {},
   "outputs": [],
   "source": []
  },
  {
   "cell_type": "code",
   "execution_count": 18,
   "id": "f4774bf2",
   "metadata": {},
   "outputs": [
    {
     "data": {
      "text/plain": [
       "104"
      ]
     },
     "execution_count": 18,
     "metadata": {},
     "output_type": "execute_result"
    }
   ],
   "source": [
    "len(train_ds)"
   ]
  },
  {
   "cell_type": "code",
   "execution_count": 19,
   "id": "0a297d1b",
   "metadata": {},
   "outputs": [
    {
     "data": {
      "text/plain": [
       "26"
      ]
     },
     "execution_count": 19,
     "metadata": {},
     "output_type": "execute_result"
    }
   ],
   "source": [
    "len(test_ds)"
   ]
  },
  {
   "cell_type": "code",
   "execution_count": 20,
   "id": "b331f177",
   "metadata": {},
   "outputs": [
    {
     "data": {
      "text/plain": [
       "'cat'"
      ]
     },
     "execution_count": 20,
     "metadata": {},
     "output_type": "execute_result"
    }
   ],
   "source": [
    "s=\"data\\\\images\\\\cat\\\\Soon_ the internet will make its own....jpg\"\n",
    "s.split(\"\\\\\")[-2]"
   ]
  },
  {
   "cell_type": "code",
   "execution_count": 21,
   "id": "19bac1a3",
   "metadata": {},
   "outputs": [],
   "source": [
    "def get_label(file_path):\n",
    "    return tf.strings.split(file_path ,os.path.sep)[-2]"
   ]
  },
  {
   "cell_type": "code",
   "execution_count": 36,
   "id": "989b9888",
   "metadata": {},
   "outputs": [],
   "source": [
    "def process_image(file_path):\n",
    "    label = get_label(file_path)\n",
    "    img = tf.io.read_file(file_path)\n",
    "    img= tf.image.decode_jpeg(img)\n",
    "    img= tf.image.resize(img ,[128 ,128])\n",
    "    \n",
    "    return img , label"
   ]
  },
  {
   "cell_type": "code",
   "execution_count": null,
   "id": "7ac66eff",
   "metadata": {},
   "outputs": [],
   "source": []
  },
  {
   "cell_type": "code",
   "execution_count": 38,
   "id": "683f0005",
   "metadata": {},
   "outputs": [
    {
     "name": "stdout",
     "output_type": "stream",
     "text": [
      "tf.Tensor(b'dog', shape=(), dtype=string)\n",
      "tf.Tensor(b'dog', shape=(), dtype=string)\n",
      "tf.Tensor(b'dog', shape=(), dtype=string)\n"
     ]
    }
   ],
   "source": [
    "for img,label in train_ds.map(process_image).take(3):\n",
    "    print(label)"
   ]
  },
  {
   "cell_type": "code",
   "execution_count": 35,
   "id": "21a6542a",
   "metadata": {},
   "outputs": [
    {
     "data": {
      "text/plain": [
       "<tf.Tensor: shape=(), dtype=string, numpy=b'dog'>"
      ]
     },
     "execution_count": 35,
     "metadata": {},
     "output_type": "execute_result"
    }
   ],
   "source": [
    "get_label(\"data\\\\images\\\\dog\\\\20 Reasons Why Cats Make the Best Pets....jpg\")\n"
   ]
  },
  {
   "cell_type": "code",
   "execution_count": null,
   "id": "43cd9a27",
   "metadata": {},
   "outputs": [],
   "source": []
  },
  {
   "cell_type": "code",
   "execution_count": 39,
   "id": "43a1926c",
   "metadata": {},
   "outputs": [],
   "source": [
    "def scale(image ,  label):\n",
    "    return image/255 ,label"
   ]
  },
  {
   "cell_type": "code",
   "execution_count": null,
   "id": "f0fa2588",
   "metadata": {},
   "outputs": [],
   "source": []
  },
  {
   "cell_type": "code",
   "execution_count": null,
   "id": "4058dd52",
   "metadata": {},
   "outputs": [],
   "source": []
  },
  {
   "cell_type": "code",
   "execution_count": 41,
   "id": "5987f80e",
   "metadata": {},
   "outputs": [
    {
     "name": "stdout",
     "output_type": "stream",
     "text": [
      "**** tf.Tensor(\n",
      "[[[237.       237.       237.      ]\n",
      "  [237.       237.       237.      ]\n",
      "  [237.       237.       237.      ]\n",
      "  ...\n",
      "  [204.3274   152.3274   105.32739 ]\n",
      "  [196.55151  152.34058  107.41089 ]\n",
      "  [206.70605  162.70605  117.706055]]\n",
      "\n",
      " [[237.       237.       237.      ]\n",
      "  [237.       237.       237.      ]\n",
      "  [237.       237.       237.      ]\n",
      "  ...\n",
      "  [197.75977  146.75977  101.759766]\n",
      "  [203.83618  156.72632  114.75049 ]\n",
      "  [208.47388  159.948    116.71094 ]]\n",
      "\n",
      " [[237.       237.       237.      ]\n",
      "  [237.       237.       237.      ]\n",
      "  [237.       237.       237.      ]\n",
      "  ...\n",
      "  [204.38525  157.32275  115.291504]\n",
      "  [209.96338  158.26147  119.13086 ]\n",
      "  [200.25073  148.28345  108.19116 ]]\n",
      "\n",
      " ...\n",
      "\n",
      " [[254.95312  254.95312  254.95312 ]\n",
      "  [253.       253.       253.      ]\n",
      "  [255.       255.       255.      ]\n",
      "  ...\n",
      "  [255.       255.       255.      ]\n",
      "  [255.       255.       255.      ]\n",
      "  [255.       255.       255.      ]]\n",
      "\n",
      " [[254.95312  254.95312  254.95312 ]\n",
      "  [253.       253.       253.      ]\n",
      "  [255.       255.       255.      ]\n",
      "  ...\n",
      "  [255.       255.       255.      ]\n",
      "  [255.       255.       255.      ]\n",
      "  [255.       255.       255.      ]]\n",
      "\n",
      " [[254.95312  254.95312  254.95312 ]\n",
      "  [253.       253.       253.      ]\n",
      "  [255.       255.       255.      ]\n",
      "  ...\n",
      "  [255.       255.       255.      ]\n",
      "  [255.       255.       255.      ]\n",
      "  [255.       255.       255.      ]]], shape=(128, 128, 3), dtype=float32)\n",
      "**** tf.Tensor(b'dog', shape=(), dtype=string)\n"
     ]
    }
   ],
   "source": [
    "train_ds = train_ds.map(process_image)\n",
    "test_ds = test_ds.map(process_image)\n",
    "for image, label in train_ds.take(1):\n",
    "    print(\"****\",image)\n",
    "    print(\"****\",label)"
   ]
  },
  {
   "cell_type": "code",
   "execution_count": null,
   "id": "16ba0fba",
   "metadata": {},
   "outputs": [],
   "source": []
  },
  {
   "cell_type": "code",
   "execution_count": null,
   "id": "0c7dc6e0",
   "metadata": {},
   "outputs": [],
   "source": []
  },
  {
   "cell_type": "code",
   "execution_count": null,
   "id": "3f184cce",
   "metadata": {},
   "outputs": [],
   "source": []
  },
  {
   "cell_type": "code",
   "execution_count": null,
   "id": "96f64958",
   "metadata": {},
   "outputs": [],
   "source": []
  },
  {
   "cell_type": "code",
   "execution_count": null,
   "id": "3f572591",
   "metadata": {},
   "outputs": [],
   "source": []
  },
  {
   "cell_type": "code",
   "execution_count": null,
   "id": "6fc0304c",
   "metadata": {},
   "outputs": [],
   "source": []
  },
  {
   "cell_type": "code",
   "execution_count": null,
   "id": "ba09c055",
   "metadata": {},
   "outputs": [],
   "source": []
  },
  {
   "cell_type": "code",
   "execution_count": null,
   "id": "888a4c32",
   "metadata": {},
   "outputs": [],
   "source": []
  },
  {
   "cell_type": "code",
   "execution_count": null,
   "id": "b3f3b030",
   "metadata": {},
   "outputs": [],
   "source": []
  },
  {
   "cell_type": "code",
   "execution_count": null,
   "id": "36cf6ae7",
   "metadata": {},
   "outputs": [],
   "source": []
  }
 ],
 "metadata": {
  "kernelspec": {
   "display_name": "Python 3 (ipykernel)",
   "language": "python",
   "name": "python3"
  },
  "language_info": {
   "codemirror_mode": {
    "name": "ipython",
    "version": 3
   },
   "file_extension": ".py",
   "mimetype": "text/x-python",
   "name": "python",
   "nbconvert_exporter": "python",
   "pygments_lexer": "ipython3",
   "version": "3.9.13"
  }
 },
 "nbformat": 4,
 "nbformat_minor": 5
}
