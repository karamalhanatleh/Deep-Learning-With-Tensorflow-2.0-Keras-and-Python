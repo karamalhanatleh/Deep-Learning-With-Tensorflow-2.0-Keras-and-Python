{
 "cells": [
  {
   "cell_type": "markdown",
   "id": "e9984fa7",
   "metadata": {},
   "source": [
    "# Loss or Cost Function"
   ]
  },
  {
   "cell_type": "code",
   "execution_count": 1,
   "id": "abf6b00c",
   "metadata": {},
   "outputs": [],
   "source": [
    "# import paskages\n",
    "import numpy as np"
   ]
  },
  {
   "cell_type": "code",
   "execution_count": null,
   "id": "7959b5d0",
   "metadata": {},
   "outputs": [],
   "source": []
  },
  {
   "cell_type": "code",
   "execution_count": 2,
   "id": "d84060bd",
   "metadata": {},
   "outputs": [],
   "source": [
    "#data\n",
    "y_predicted = np.array([1,1,0,0,1])\n",
    "y_true = np.array([0.3 ,0.7 ,1,0,0.5])"
   ]
  },
  {
   "cell_type": "code",
   "execution_count": 3,
   "id": "26e3909a",
   "metadata": {},
   "outputs": [],
   "source": [
    "#function  to calculate Mean Absoulate Error\n",
    "def mae(y_true ,y_pred):\n",
    "    total_error=0\n",
    "    \n",
    "    for yt ,yp ,in zip(y_true , y_pred):\n",
    "        total_error += abs(yt -yp)\n",
    "    print(\"Total Error :\" , total_error)\n",
    "    \n",
    "    mae= total_error / len(y_true)\n",
    "    print(\"MAE : \", mae)\n",
    "    return mae"
   ]
  },
  {
   "cell_type": "code",
   "execution_count": 4,
   "id": "e1b5307a",
   "metadata": {},
   "outputs": [
    {
     "name": "stdout",
     "output_type": "stream",
     "text": [
      "Total Error : 2.5\n",
      "MAE :  0.5\n"
     ]
    },
    {
     "data": {
      "text/plain": [
       "0.5"
      ]
     },
     "execution_count": 4,
     "metadata": {},
     "output_type": "execute_result"
    }
   ],
   "source": [
    "mae(y_true,y_predicted)"
   ]
  },
  {
   "cell_type": "markdown",
   "id": "90758cce",
   "metadata": {},
   "source": [
    "### or"
   ]
  },
  {
   "cell_type": "code",
   "execution_count": 5,
   "id": "9c878c44",
   "metadata": {},
   "outputs": [
    {
     "data": {
      "text/plain": [
       "0.5"
      ]
     },
     "execution_count": 5,
     "metadata": {},
     "output_type": "execute_result"
    }
   ],
   "source": [
    "np.mean(np.abs(y_predicted - y_true))"
   ]
  },
  {
   "cell_type": "code",
   "execution_count": null,
   "id": "2be03103",
   "metadata": {},
   "outputs": [],
   "source": []
  },
  {
   "cell_type": "code",
   "execution_count": null,
   "id": "1eaba42e",
   "metadata": {},
   "outputs": [],
   "source": []
  },
  {
   "cell_type": "code",
   "execution_count": 6,
   "id": "88338347",
   "metadata": {},
   "outputs": [],
   "source": [
    "########################################################################"
   ]
  },
  {
   "cell_type": "code",
   "execution_count": 7,
   "id": "f275eeae",
   "metadata": {},
   "outputs": [
    {
     "name": "stderr",
     "output_type": "stream",
     "text": [
      "C:\\Users\\DELL\\AppData\\Local\\Temp\\ipykernel_14816\\3071246210.py:1: RuntimeWarning: divide by zero encountered in log\n",
      "  np.log([0]) #Not defined\n"
     ]
    },
    {
     "data": {
      "text/plain": [
       "array([-inf])"
      ]
     },
     "execution_count": 7,
     "metadata": {},
     "output_type": "execute_result"
    }
   ],
   "source": [
    "np.log([0]) #Not defined"
   ]
  },
  {
   "cell_type": "code",
   "execution_count": 8,
   "id": "e09c54d1",
   "metadata": {},
   "outputs": [
    {
     "data": {
      "text/plain": [
       "array([-41.44653167])"
      ]
     },
     "execution_count": 8,
     "metadata": {},
     "output_type": "execute_result"
    }
   ],
   "source": [
    "np.log([0.000000000000000001])"
   ]
  },
  {
   "cell_type": "code",
   "execution_count": null,
   "id": "30d622f6",
   "metadata": {},
   "outputs": [],
   "source": []
  },
  {
   "cell_type": "code",
   "execution_count": null,
   "id": "c81bb844",
   "metadata": {},
   "outputs": [],
   "source": []
  },
  {
   "cell_type": "code",
   "execution_count": 9,
   "id": "dd8ee0f4",
   "metadata": {},
   "outputs": [],
   "source": [
    "epsilon = 1e-15"
   ]
  },
  {
   "cell_type": "code",
   "execution_count": 10,
   "id": "a5722cac",
   "metadata": {},
   "outputs": [
    {
     "data": {
      "text/plain": [
       "[1, 1, 1e-15, 1e-15, 1]"
      ]
     },
     "execution_count": 10,
     "metadata": {},
     "output_type": "execute_result"
    }
   ],
   "source": [
    "y_predicted_new =[max(i ,epsilon ) for i in y_predicted]\n",
    "y_predicted_new"
   ]
  },
  {
   "cell_type": "code",
   "execution_count": 11,
   "id": "ce6d595a",
   "metadata": {},
   "outputs": [
    {
     "data": {
      "text/plain": [
       "[0.999999999999999, 0.999999999999999, 1e-15, 1e-15, 0.999999999999999]"
      ]
     },
     "execution_count": 11,
     "metadata": {},
     "output_type": "execute_result"
    }
   ],
   "source": [
    "y_predicted_new = [min(i,1-epsilon ) for i in y_predicted_new]\n",
    "y_predicted_new"
   ]
  },
  {
   "cell_type": "code",
   "execution_count": 12,
   "id": "3ef97ea6",
   "metadata": {},
   "outputs": [
    {
     "data": {
      "text/plain": [
       "array([-9.99200722e-16, -9.99200722e-16, -3.45387764e+01, -3.45387764e+01,\n",
       "       -9.99200722e-16])"
      ]
     },
     "execution_count": 12,
     "metadata": {},
     "output_type": "execute_result"
    }
   ],
   "source": [
    "y_predicted_new= np.array(y_predicted_new)\n",
    "np.log(y_predicted_new)"
   ]
  },
  {
   "cell_type": "code",
   "execution_count": 13,
   "id": "b23b0998",
   "metadata": {},
   "outputs": [
    {
     "name": "stderr",
     "output_type": "stream",
     "text": [
      "C:\\Users\\DELL\\AppData\\Local\\Temp\\ipykernel_14816\\815880036.py:1: RuntimeWarning: divide by zero encountered in log\n",
      "  np.log(y_predicted)\n"
     ]
    },
    {
     "data": {
      "text/plain": [
       "array([  0.,   0., -inf, -inf,   0.])"
      ]
     },
     "execution_count": 13,
     "metadata": {},
     "output_type": "execute_result"
    }
   ],
   "source": [
    "np.log(y_predicted)"
   ]
  },
  {
   "cell_type": "code",
   "execution_count": null,
   "id": "460e6fbd",
   "metadata": {},
   "outputs": [],
   "source": []
  },
  {
   "cell_type": "code",
   "execution_count": 14,
   "id": "77dc0628",
   "metadata": {},
   "outputs": [
    {
     "data": {
      "text/plain": [
       "17.2696280766844"
      ]
     },
     "execution_count": 14,
     "metadata": {},
     "output_type": "execute_result"
    }
   ],
   "source": [
    "-np.mean( y_true  * np.log(y_predicted_new) + (1-y_true)* np.log(1-y_predicted_new) )"
   ]
  },
  {
   "cell_type": "code",
   "execution_count": null,
   "id": "69a6829b",
   "metadata": {},
   "outputs": [],
   "source": []
  },
  {
   "cell_type": "code",
   "execution_count": 15,
   "id": "2fb93e64",
   "metadata": {},
   "outputs": [],
   "source": [
    "#function log loss\n",
    "epsilon =1e-15\n",
    "def log_loss(y_true , y_predicted):\n",
    "    y_predicted_new = [max(i,epsilon ) for i in y_predicted]\n",
    "    \n",
    "    y_predicted_new = [min(i ,1-epsilon ) for i in y_predicted_new]\n",
    "    \n",
    "    y_predicted_new=np.array(y_predicted_new)\n",
    "    \n",
    "    return -np.mean(  y_true *np.log(y_predicted_new) + (1-y_true) * np.log(1-y_predicted_new)       )"
   ]
  },
  {
   "cell_type": "code",
   "execution_count": 16,
   "id": "caa0e273",
   "metadata": {},
   "outputs": [
    {
     "data": {
      "text/plain": [
       "17.2696280766844"
      ]
     },
     "execution_count": 16,
     "metadata": {},
     "output_type": "execute_result"
    }
   ],
   "source": [
    "log_loss(y_true , y_predicted)"
   ]
  },
  {
   "cell_type": "code",
   "execution_count": null,
   "id": "59095f09",
   "metadata": {},
   "outputs": [],
   "source": []
  },
  {
   "cell_type": "code",
   "execution_count": null,
   "id": "47f55646",
   "metadata": {},
   "outputs": [],
   "source": []
  },
  {
   "cell_type": "code",
   "execution_count": null,
   "id": "15bf2bdc",
   "metadata": {},
   "outputs": [],
   "source": []
  }
 ],
 "metadata": {
  "kernelspec": {
   "display_name": "Python 3 (ipykernel)",
   "language": "python",
   "name": "python3"
  },
  "language_info": {
   "codemirror_mode": {
    "name": "ipython",
    "version": 3
   },
   "file_extension": ".py",
   "mimetype": "text/x-python",
   "name": "python",
   "nbconvert_exporter": "python",
   "pygments_lexer": "ipython3",
   "version": "3.9.13"
  }
 },
 "nbformat": 4,
 "nbformat_minor": 5
}
