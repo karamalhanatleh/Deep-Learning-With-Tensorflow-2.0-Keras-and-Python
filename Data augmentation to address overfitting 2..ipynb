{
 "cells": [
  {
   "cell_type": "markdown",
   "id": "c14d7b5d",
   "metadata": {},
   "source": [
    "# Data augmentation to address overfitting 2.\n"
   ]
  },
  {
   "cell_type": "code",
   "execution_count": 111,
   "id": "b5ae7187",
   "metadata": {},
   "outputs": [],
   "source": [
    "#import paskages\n",
    "import os\n",
    "import cv2\n",
    "import numpy as np\n",
    "\n",
    "from sklearn.model_selection import train_test_split\n",
    "from tensorflow.keras.models import Sequential\n",
    "from tensorflow.keras.layers import Conv2D, MaxPooling2D, Flatten, Dense, Dropout\n",
    "\n",
    "import pandas as pd\n",
    "import matplotlib.pyplot as plt\n",
    "import pathlib\n",
    "import tensorflow as tf\n",
    "from tensorflow.keras.preprocessing.image import ImageDataGenerator\n",
    "from tensorflow.keras.optimizers import RMSprop"
   ]
  },
  {
   "cell_type": "code",
   "execution_count": 112,
   "id": "cb8729e9",
   "metadata": {},
   "outputs": [
    {
     "data": {
      "text/plain": [
       "WindowsPath('data/flower_photos')"
      ]
     },
     "execution_count": 112,
     "metadata": {},
     "output_type": "execute_result"
    }
   ],
   "source": [
    "#Load data\n",
    "path='data/flower_photos/'\n",
    "data_dir = pathlib.Path(path)\n",
    "data_dir"
   ]
  },
  {
   "cell_type": "code",
   "execution_count": null,
   "id": "c65bfcd2",
   "metadata": {},
   "outputs": [],
   "source": []
  },
  {
   "cell_type": "code",
   "execution_count": 113,
   "id": "24808e65",
   "metadata": {},
   "outputs": [],
   "source": [
    "flowers_images_dict = {\n",
    "    'roses': list(data_dir.glob('roses/*')),\n",
    "    'daisy': list(data_dir.glob('daisy/*')),\n",
    "    'dandelion': list(data_dir.glob('dandelion/*')),\n",
    "    'sunflowers': list(data_dir.glob('sunflowers/*')),\n",
    "    'tulips': list(data_dir.glob('tulips/*')),\n",
    "}"
   ]
  },
  {
   "cell_type": "code",
   "execution_count": null,
   "id": "aca49bc4",
   "metadata": {},
   "outputs": [],
   "source": []
  },
  {
   "cell_type": "code",
   "execution_count": 114,
   "id": "0e1b1e35",
   "metadata": {},
   "outputs": [],
   "source": [
    "flowers_labels_dict = {\n",
    "    'roses': 0,\n",
    "    'daisy': 1,\n",
    "    'dandelion': 2,\n",
    "    'sunflowers': 3,\n",
    "    'tulips': 4,\n",
    "}"
   ]
  },
  {
   "cell_type": "code",
   "execution_count": 115,
   "id": "2686ffa5",
   "metadata": {},
   "outputs": [],
   "source": [
    "X, y = [], []\n",
    "\n",
    "for flower_name, images in flowers_images_dict.items():\n",
    "    for image in images:\n",
    "        img = cv2.imread(str(image))\n",
    "        resized_img = cv2.resize(img,(180,180))\n",
    "        X.append(resized_img)\n",
    "        y.append(flowers_labels_dict[flower_name])"
   ]
  },
  {
   "cell_type": "code",
   "execution_count": null,
   "id": "8a713431",
   "metadata": {},
   "outputs": [],
   "source": []
  },
  {
   "cell_type": "code",
   "execution_count": 116,
   "id": "a709d1b4",
   "metadata": {},
   "outputs": [],
   "source": [
    "X = np.array(X)\n",
    "y = np.array(y)"
   ]
  },
  {
   "cell_type": "code",
   "execution_count": 117,
   "id": "40cdeac1",
   "metadata": {},
   "outputs": [
    {
     "data": {
      "text/plain": [
       "3670"
      ]
     },
     "execution_count": 117,
     "metadata": {},
     "output_type": "execute_result"
    }
   ],
   "source": [
    "size = len(X)\n",
    "#size_test = int(size / 10)\n",
    "size"
   ]
  },
  {
   "cell_type": "code",
   "execution_count": null,
   "id": "7a20b40c",
   "metadata": {},
   "outputs": [],
   "source": []
  },
  {
   "cell_type": "code",
   "execution_count": 120,
   "id": "721032dc",
   "metadata": {},
   "outputs": [],
   "source": [
    "size_test = 370  # 10% of the data\n",
    "training_data = X[size_test:]\n",
    "training_labels = y[size_test:]\n",
    "testing_data = X[:size_test]\n",
    "testing_labels = y[:size_test]\n"
   ]
  },
  {
   "cell_type": "code",
   "execution_count": 121,
   "id": "2524aa4b",
   "metadata": {},
   "outputs": [
    {
     "data": {
      "text/plain": [
       "3300"
      ]
     },
     "execution_count": 121,
     "metadata": {},
     "output_type": "execute_result"
    }
   ],
   "source": []
  },
  {
   "cell_type": "code",
   "execution_count": 122,
   "id": "379421e3",
   "metadata": {},
   "outputs": [],
   "source": [
    "training_data = np.array(training_data)\n",
    "training_labels = np.array(training_labels)\n",
    "testing_data = np.array(testing_data)\n",
    "testing_labels = np.array(testing_labels)\n",
    "# Data augmentation configuration for training data\n",
    "train_datagen = ImageDataGenerator(\n",
    "    rescale=1./255,\n",
    "    rotation_range=40,\n",
    "    width_shift_range=0.2,\n",
    "    height_shift_range=0.2,\n",
    "    shear_range=0.2,\n",
    "    zoom_range=0.2,\n",
    "    horizontal_flip=True,\n",
    "    fill_mode='nearest'\n",
    ")\n",
    "\n",
    "# Data augmentation configuration for validation data (only rescaling)\n",
    "test_datagen = ImageDataGenerator(rescale=1./255)\n",
    "\n",
    "# Flow training images in batches using train_datagen generator\n",
    "train_generator = train_datagen.flow(\n",
    "    training_data,\n",
    "    training_labels,\n",
    "    batch_size=20,\n",
    "    shuffle=True,\n",
    "    seed=42\n",
    ")\n",
    "\n",
    "# Flow validation images in batches using test_datagen generator\n",
    "validation_generator = test_datagen.flow(\n",
    "    testing_data,\n",
    "    testing_labels,\n",
    "    batch_size=20,\n",
    "    shuffle=False\n",
    ")"
   ]
  },
  {
   "cell_type": "code",
   "execution_count": null,
   "id": "a04e0b59",
   "metadata": {},
   "outputs": [],
   "source": []
  },
  {
   "cell_type": "raw",
   "id": "ad6bd7d6",
   "metadata": {},
   "source": [
    "model = tf.keras.models.Sequential([\n",
    "      tf.keras.layers.Conv2D(32, (3,3), activation='relu', input_shape=(150, 150, 3)),\n",
    "      tf.keras.layers.MaxPooling2D(2, 2),\n",
    "    \n",
    "      tf.keras.layers.Conv2D(64, (3,3), activation='relu'),\n",
    "      tf.keras.layers.MaxPooling2D(2,2),\n",
    "    \n",
    "   #   tf.keras.layers.Conv2D(128, (3,3), activation='relu'),\n",
    "   #   tf.keras.layers.MaxPooling2D(2,2),\n",
    "    \n",
    "    #  tf.keras.layers.Conv2D(128, (3,3), activation='relu'),\n",
    "     # tf.keras.layers.MaxPooling2D(2,2),\n",
    "    \n",
    "    \n",
    "      tf.keras.layers.Flatten(),\n",
    "      tf.keras.layers.Dense(512, activation='relu'),\n",
    "      Dense(5, activation='softmax')\n",
    "  ])\n",
    "    \n",
    "model.compile(\n",
    "    optimizer='adam',  # You can use the optimizer of your choice\n",
    "    loss='categorical_crossentropy',  # Use categorical crossentropy for multi-class classification\n",
    "    metrics=['accuracy']\n",
    ")"
   ]
  },
  {
   "cell_type": "code",
   "execution_count": 107,
   "id": "9bd798fb",
   "metadata": {},
   "outputs": [],
   "source": []
  },
  {
   "cell_type": "code",
   "execution_count": 123,
   "id": "19c1709d",
   "metadata": {},
   "outputs": [],
   "source": [
    "model = tf.keras.models.Sequential([\n",
    "    tf.keras.layers.Conv2D(32, (3,3), activation='relu', input_shape=(180, 180, 3)),  # Update the input shape\n",
    "    tf.keras.layers.MaxPooling2D(2, 2),\n",
    "    \n",
    "    tf.keras.layers.Conv2D(64, (3,3), activation='relu'),\n",
    "    tf.keras.layers.MaxPooling2D(2,2),\n",
    "    \n",
    "    tf.keras.layers.Flatten(),\n",
    "    tf.keras.layers.Dense(512, activation='relu'),\n",
    "    Dense(5, activation='softmax')\n",
    "])\n"
   ]
  },
  {
   "cell_type": "code",
   "execution_count": 125,
   "id": "18e07ce1",
   "metadata": {},
   "outputs": [],
   "source": [
    "model.compile(\n",
    "    optimizer='adam',\n",
    "    loss='sparse_categorical_crossentropy',\n",
    "    metrics=['accuracy']\n",
    ")\n"
   ]
  },
  {
   "cell_type": "code",
   "execution_count": 126,
   "id": "ed8503e7",
   "metadata": {},
   "outputs": [
    {
     "name": "stdout",
     "output_type": "stream",
     "text": [
      "Epoch 1/20\n",
      "165/165 - 158s - loss: 1.7229 - accuracy: 0.5064 - val_loss: 2.3636 - val_accuracy: 0.0081 - 158s/epoch - 955ms/step\n",
      "Epoch 2/20\n",
      "165/165 - 158s - loss: 1.0205 - accuracy: 0.6239 - val_loss: 1.6974 - val_accuracy: 0.0405 - 158s/epoch - 958ms/step\n",
      "Epoch 3/20\n",
      "165/165 - 157s - loss: 0.9047 - accuracy: 0.6624 - val_loss: 2.3000 - val_accuracy: 0.1000 - 157s/epoch - 953ms/step\n",
      "Epoch 4/20\n",
      "165/165 - 160s - loss: 0.8786 - accuracy: 0.6794 - val_loss: 1.4592 - val_accuracy: 0.1405 - 160s/epoch - 967ms/step\n",
      "Epoch 5/20\n",
      "165/165 - 157s - loss: 0.8401 - accuracy: 0.6903 - val_loss: 1.5382 - val_accuracy: 0.1351 - 157s/epoch - 949ms/step\n",
      "Epoch 6/20\n",
      "165/165 - 157s - loss: 0.8098 - accuracy: 0.6967 - val_loss: 1.9828 - val_accuracy: 0.0514 - 157s/epoch - 954ms/step\n",
      "Epoch 7/20\n",
      "165/165 - 157s - loss: 0.7911 - accuracy: 0.7097 - val_loss: 1.6694 - val_accuracy: 0.1811 - 157s/epoch - 949ms/step\n",
      "Epoch 8/20\n",
      "165/165 - 156s - loss: 0.7628 - accuracy: 0.7197 - val_loss: 1.7946 - val_accuracy: 0.1432 - 156s/epoch - 948ms/step\n",
      "Epoch 9/20\n",
      "165/165 - 156s - loss: 0.7699 - accuracy: 0.7079 - val_loss: 1.6730 - val_accuracy: 0.2649 - 156s/epoch - 945ms/step\n",
      "Epoch 10/20\n",
      "165/165 - 156s - loss: 0.7407 - accuracy: 0.7185 - val_loss: 1.4757 - val_accuracy: 0.2270 - 156s/epoch - 944ms/step\n",
      "Epoch 11/20\n",
      "165/165 - 156s - loss: 0.7314 - accuracy: 0.7270 - val_loss: 1.2186 - val_accuracy: 0.4270 - 156s/epoch - 946ms/step\n",
      "Epoch 12/20\n",
      "165/165 - 157s - loss: 0.7032 - accuracy: 0.7430 - val_loss: 1.5575 - val_accuracy: 0.3459 - 157s/epoch - 954ms/step\n",
      "Epoch 13/20\n",
      "165/165 - 158s - loss: 0.6987 - accuracy: 0.7352 - val_loss: 1.6882 - val_accuracy: 0.2243 - 158s/epoch - 955ms/step\n",
      "Epoch 14/20\n",
      "165/165 - 159s - loss: 0.6860 - accuracy: 0.7406 - val_loss: 1.4777 - val_accuracy: 0.3486 - 159s/epoch - 965ms/step\n",
      "Epoch 15/20\n",
      "165/165 - 156s - loss: 0.6832 - accuracy: 0.7467 - val_loss: 2.0072 - val_accuracy: 0.1541 - 156s/epoch - 947ms/step\n",
      "Epoch 16/20\n",
      "165/165 - 157s - loss: 0.6765 - accuracy: 0.7421 - val_loss: 1.4603 - val_accuracy: 0.1973 - 157s/epoch - 949ms/step\n",
      "Epoch 17/20\n",
      "165/165 - 156s - loss: 0.6578 - accuracy: 0.7561 - val_loss: 1.6816 - val_accuracy: 0.3459 - 156s/epoch - 946ms/step\n",
      "Epoch 18/20\n",
      "165/165 - 156s - loss: 0.6590 - accuracy: 0.7515 - val_loss: 1.7352 - val_accuracy: 0.3162 - 156s/epoch - 947ms/step\n",
      "Epoch 19/20\n",
      "165/165 - 156s - loss: 0.6338 - accuracy: 0.7639 - val_loss: 1.2345 - val_accuracy: 0.4297 - 156s/epoch - 946ms/step\n",
      "Epoch 20/20\n",
      "165/165 - 156s - loss: 0.6186 - accuracy: 0.7755 - val_loss: 1.3246 - val_accuracy: 0.4676 - 156s/epoch - 948ms/step\n"
     ]
    }
   ],
   "source": [
    "history = model.fit(\n",
    "      train_generator,\n",
    "    #  steps_per_epoch=50,# 100        # 2000 images = batch_size * steps\n",
    "      epochs=20, #20\n",
    "      validation_data=validation_generator,\n",
    "     # validation_steps=5, #50         # 1000 images = batch_size * steps\n",
    "      verbose=2)"
   ]
  },
  {
   "cell_type": "code",
   "execution_count": null,
   "id": "5736d423",
   "metadata": {},
   "outputs": [],
   "source": []
  },
  {
   "cell_type": "code",
   "execution_count": null,
   "id": "7e805174",
   "metadata": {},
   "outputs": [],
   "source": []
  },
  {
   "cell_type": "code",
   "execution_count": 127,
   "id": "97448b0d",
   "metadata": {},
   "outputs": [],
   "source": [
    "def plot_graphs( history , string):\n",
    "    plt.plot(history.history[string])\n",
    "    plt.plot(history.history['val_'+string])\n",
    "    \n",
    "    plt.xlabel(\"Epochs\")\n",
    "    plt.ylabel(string)\n",
    "    plt.legend([string, 'val_'+string])\n",
    "    plt.show()   "
   ]
  },
  {
   "cell_type": "code",
   "execution_count": 128,
   "id": "0e126e08",
   "metadata": {},
   "outputs": [
    {
     "data": {
      "image/png": "[encoded data removed]",
      "text/plain": [
       "<Figure size 640x480 with 1 Axes>"
      ]
     },
     "metadata": {},
     "output_type": "display_data"
    },
    {
     "data": {
      "image/png": "[encoded data removed]",
      "text/plain": [
       "<Figure size 640x480 with 1 Axes>"
      ]
     },
     "metadata": {},
     "output_type": "display_data"
    }
   ],
   "source": [
    "plot_graphs(history, \"accuracy\")\n",
    "plot_graphs(history, \"loss\")"
   ]
  },
  {
   "cell_type": "code",
   "execution_count": null,
   "id": "b66f8132",
   "metadata": {},
   "outputs": [],
   "source": []
  },
  {
   "cell_type": "code",
   "execution_count": null,
   "id": "9249baf3",
   "metadata": {},
   "outputs": [],
   "source": []
  },
  {
   "cell_type": "code",
   "execution_count": null,
   "id": "638a60cb",
   "metadata": {},
   "outputs": [],
   "source": []
  },
  {
   "cell_type": "code",
   "execution_count": null,
   "id": "ecddde4b",
   "metadata": {},
   "outputs": [],
   "source": []
  },
  {
   "cell_type": "code",
   "execution_count": null,
   "id": "9c010b4b",
   "metadata": {},
   "outputs": [],
   "source": []
  },
  {
   "cell_type": "code",
   "execution_count": null,
   "id": "8c4e57a1",
   "metadata": {},
   "outputs": [],
   "source": []
  },
  {
   "cell_type": "code",
   "execution_count": null,
   "id": "0e9e3222",
   "metadata": {},
   "outputs": [],
   "source": []
  },
  {
   "cell_type": "code",
   "execution_count": null,
   "id": "81bb467b",
   "metadata": {},
   "outputs": [],
   "source": []
  },
  {
   "cell_type": "code",
   "execution_count": null,
   "id": "05b58441",
   "metadata": {},
   "outputs": [],
   "source": []
  },
  {
   "cell_type": "code",
   "execution_count": null,
   "id": "1f00d04f",
   "metadata": {},
   "outputs": [],
   "source": []
  },
  {
   "cell_type": "code",
   "execution_count": null,
   "id": "b767dcc3",
   "metadata": {},
   "outputs": [],
   "source": []
  },
  {
   "cell_type": "code",
   "execution_count": null,
   "id": "e95fb181",
   "metadata": {},
   "outputs": [],
   "source": []
  },
  {
   "cell_type": "code",
   "execution_count": null,
   "id": "579eb6f2",
   "metadata": {},
   "outputs": [],
   "source": []
  },
  {
   "cell_type": "code",
   "execution_count": null,
   "id": "cea4eb5e",
   "metadata": {},
   "outputs": [],
   "source": []
  }
 ],
 "metadata": {
  "kernelspec": {
   "display_name": "Python 3 (ipykernel)",
   "language": "python",
   "name": "python3"
  },
  "language_info": {
   "codemirror_mode": {
    "name": "ipython",
    "version": 3
   },
   "file_extension": ".py",
   "mimetype": "text/x-python",
   "name": "python",
   "nbconvert_exporter": "python",
   "pygments_lexer": "ipython3",
   "version": "3.9.13"
  }
 },
 "nbformat": 4,
 "nbformat_minor": 5
}
